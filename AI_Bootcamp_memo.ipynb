{
  "nbformat": 4,
  "nbformat_minor": 0,
  "metadata": {
    "colab": {
      "name": "Untitled3.ipynb",
      "private_outputs": true,
      "provenance": [],
      "authorship_tag": "ABX9TyNAa/HNkE2PvrmaVvIyHMmM",
      "include_colab_link": true
    },
    "kernelspec": {
      "name": "python3",
      "display_name": "Python 3"
    },
    "language_info": {
      "name": "python"
    }
  },
  "cells": [
    {
      "cell_type": "markdown",
      "metadata": {
        "id": "view-in-github",
        "colab_type": "text"
      },
      "source": [
        "<a href=\"https://colab.research.google.com/github/MeluvRose/My_test_note/blob/main/AI_Bootcamp_memo.ipynb\" target=\"_parent\"><img src=\"https://colab.research.google.com/assets/colab-badge.svg\" alt=\"Open In Colab\"/></a>"
      ]
    },
    {
      "cell_type": "code",
      "metadata": {
        "id": "526E-0wRoub9"
      },
      "source": [
        "import pandas as pd \n",
        "\n",
        "url =  \"/content/Misae_Munji.csv\"\n",
        "df = pd.read_csv(url, encoding='cp949')"
      ],
      "execution_count": null,
      "outputs": []
    },
    {
      "cell_type": "code",
      "metadata": {
        "id": "D63N51MHNPbh"
      },
      "source": [
        "df.loc[:, ['기온', '습도']]"
      ],
      "execution_count": null,
      "outputs": []
    },
    {
      "cell_type": "code",
      "metadata": {
        "id": "_8hY-IsdM47z"
      },
      "source": [
        "def toFloat(num):\n",
        "  return float(num)\n",
        "\n",
        "df['기온'] = df['기온'].apply(toFloat)\n",
        "df.loc[:, ['기온', '습도']]"
      ],
      "execution_count": null,
      "outputs": []
    }
  ]
}